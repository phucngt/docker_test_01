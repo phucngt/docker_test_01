{
 "cells": [
  {
   "cell_type": "code",
   "execution_count": 4,
   "id": "cf17ca83-783b-4cb8-a878-9b7816ce365d",
   "metadata": {},
   "outputs": [],
   "source": [
    "import pandas as pd\n",
    "import os\n",
    "import sys\n",
    "from pathlib import Path\n",
    "\n",
    "from f00_read_configs import read_excel_data_from_row\n",
    "from f00_read_configs import set_config_df_types"
   ]
  },
  {
   "cell_type": "markdown",
   "id": "7a1a7755-ee0f-4f3d-aec5-526f86c0957c",
   "metadata": {},
   "source": [
    "base_path = Path(r'C:\\Users\\Admin\\Desktop\\Docker\\docker_freecodecamp\\docker_test_jupyter')\n",
    "filepath = 'read_workflow_config_test.xlsx'\n",
    "sheet_name = 'F001_(4)'  \n",
    "config_df = read_excel_data_from_row(filepath, sheet_name)\n",
    "config_df = set_config_df_types(config_df)\n",
    "config_df"
   ]
  },
  {
   "cell_type": "code",
   "execution_count": 11,
   "id": "f7afd6ed-6414-4a6a-ac0c-238c57095bb6",
   "metadata": {},
   "outputs": [],
   "source": [
    "from f00_read_configs import read_config_except_columns\n",
    "# base_path = Path(r'C:\\Users\\Admin\\Desktop\\Docker\\docker_freecodecamp\\docker_test_jupyter')\n",
    "base_path = Path('/usr/src/app')\n",
    "config_file = 'read_workflow_config_test.xlsx'\n",
    "sheet_name = 'F001_(4)'\n",
    "config_file_path = base_path / config_file\n",
    "file_config_df, cal_df, mapping_zone_df = read_config_except_columns(base_path, config_file_path, sheet_name, lower_case_except_file_zone=True,\n",
    "                                                       execpt_cal_df_columns={\"criteria_value\"}, \n",
    "                                                       execpt_mapping_zone_df_columns=None)"
   ]
  },
  {
   "cell_type": "code",
   "execution_count": 12,
   "id": "3b651f00-7a21-4c31-ba9b-bd3185d8463a",
   "metadata": {},
   "outputs": [
    {
     "data": {
      "text/html": [
       "<div>\n",
       "<style scoped>\n",
       "    .dataframe tbody tr th:only-of-type {\n",
       "        vertical-align: middle;\n",
       "    }\n",
       "\n",
       "    .dataframe tbody tr th {\n",
       "        vertical-align: top;\n",
       "    }\n",
       "\n",
       "    .dataframe thead th {\n",
       "        text-align: right;\n",
       "    }\n",
       "</style>\n",
       "<table border=\"1\" class=\"dataframe\">\n",
       "  <thead>\n",
       "    <tr style=\"text-align: right;\">\n",
       "      <th></th>\n",
       "      <th>linked_input_class</th>\n",
       "      <th>remove_rows_list</th>\n",
       "      <th>applied_column</th>\n",
       "      <th>criteria_to_remove_row</th>\n",
       "      <th>criteria_value</th>\n",
       "      <th>Num</th>\n",
       "    </tr>\n",
       "  </thead>\n",
       "  <tbody>\n",
       "    <tr>\n",
       "      <th>0</th>\n",
       "      <td>a</td>\n",
       "      <td>position,    year_month</td>\n",
       "      <td>NaN</td>\n",
       "      <td>NaN</td>\n",
       "      <td>NaN</td>\n",
       "      <td>1</td>\n",
       "    </tr>\n",
       "    <tr>\n",
       "      <th>1</th>\n",
       "      <td>b</td>\n",
       "      <td>year_month</td>\n",
       "      <td>year_month</td>\n",
       "      <td>=</td>\n",
       "      <td>Total</td>\n",
       "      <td>2</td>\n",
       "    </tr>\n",
       "    <tr>\n",
       "      <th>2</th>\n",
       "      <td>a</td>\n",
       "      <td>NaN</td>\n",
       "      <td>year_month</td>\n",
       "      <td>=</td>\n",
       "      <td>Applied filters:</td>\n",
       "      <td>3</td>\n",
       "    </tr>\n",
       "    <tr>\n",
       "      <th>3</th>\n",
       "      <td>a</td>\n",
       "      <td>NaN</td>\n",
       "      <td>position</td>\n",
       "      <td>contain</td>\n",
       "      <td>M</td>\n",
       "      <td>4</td>\n",
       "    </tr>\n",
       "    <tr>\n",
       "      <th>4</th>\n",
       "      <td>a</td>\n",
       "      <td>NaN</td>\n",
       "      <td>year_month</td>\n",
       "      <td>=</td>\n",
       "      <td>Total</td>\n",
       "      <td>5</td>\n",
       "    </tr>\n",
       "  </tbody>\n",
       "</table>\n",
       "</div>"
      ],
      "text/plain": [
       "  linked_input_class         remove_rows_list applied_column  \\\n",
       "0                  a  position,    year_month            NaN   \n",
       "1                  b               year_month     year_month   \n",
       "2                  a                      NaN     year_month   \n",
       "3                  a                      NaN       position   \n",
       "4                  a                      NaN     year_month   \n",
       "\n",
       "  criteria_to_remove_row    criteria_value  Num  \n",
       "0                    NaN               NaN    1  \n",
       "1                      =             Total    2  \n",
       "2                      =  Applied filters:    3  \n",
       "3                contain                 M    4  \n",
       "4                      =             Total    5  "
      ]
     },
     "execution_count": 12,
     "metadata": {},
     "output_type": "execute_result"
    }
   ],
   "source": [
    "cal_df"
   ]
  },
  {
   "cell_type": "code",
   "execution_count": 13,
   "id": "f7afcda6-e7e3-4c9f-b9b7-0a8e2a8b3756",
   "metadata": {},
   "outputs": [],
   "source": [
    "from f01_remove_rows import read_input_file_type, apply_removal_criteria, normalize_text, run_removal_automation"
   ]
  },
  {
   "cell_type": "code",
   "execution_count": 14,
   "id": "2c1cae53-f951-46a0-a164-a4b76906cb23",
   "metadata": {},
   "outputs": [
    {
     "name": "stdout",
     "output_type": "stream",
     "text": [
      "Output file path: /usr/src/app/abc/Test_df_remove.xlsx\n",
      "First row values for debugging: ['yearmonth', 'yearquarter', 'year6m', 'staffusername', 'position', 'slkhquanly']\n",
      "First row matches header criteria, using as header.\n",
      "Header set successfully.\n",
      "Applying criteria: nan nan nan\n",
      "No applied column provided. Skipping this criteria.\n",
      "Applying criteria: year_month = Applied filters:\n",
      "Applying criteria: position contain M\n",
      "Applying criteria: year_month = Total\n",
      "Excel writer status: True\n",
      "Data written to Sheet1 in /usr/src/app/abc/Test_df_remove.xlsx\n",
      "Output file path: /usr/src/app/abc/Test_df_remove.xlsx\n",
      "First row values for debugging: ['a', 'b', 'c', 'nan', 'nan', 'nan', 'nan', 'nan', 'nan', 'nan', 'nan', 'nan', 'nan', 'nan', 'nan', 'nan', 'nan', 'nan', 'nan', 'nan', 'nan', 'nan', 'nan']\n",
      "Header found at index: 7\n",
      "Header set successfully.\n",
      "Applying criteria: year_month = Total\n",
      "Excel writer status: True\n",
      "Data written to Sheet2 in /usr/src/app/abc/Test_df_remove.xlsx\n",
      "Closed writer for /usr/src/app/abc/Test_df_remove.xlsx\n"
     ]
    }
   ],
   "source": [
    "run_removal_automation(file_config_df, cal_df, base_path)"
   ]
  },
  {
   "cell_type": "code",
   "execution_count": null,
   "id": "f4d90332-b9a8-4a45-b9f3-f721b6b38af7",
   "metadata": {},
   "outputs": [],
   "source": []
  }
 ],
 "metadata": {
  "kernelspec": {
   "display_name": "Python 3 (ipykernel)",
   "language": "python",
   "name": "python3"
  },
  "language_info": {
   "codemirror_mode": {
    "name": "ipython",
    "version": 3
   },
   "file_extension": ".py",
   "mimetype": "text/x-python",
   "name": "python",
   "nbconvert_exporter": "python",
   "pygments_lexer": "ipython3",
   "version": "3.9.19"
  }
 },
 "nbformat": 4,
 "nbformat_minor": 5
}
